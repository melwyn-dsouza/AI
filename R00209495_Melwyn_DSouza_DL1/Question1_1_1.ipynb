{
  "nbformat": 4,
  "nbformat_minor": 0,
  "metadata": {
    "colab": {
      "name": "Question1_1_1",
      "provenance": [],
      "collapsed_sections": []
    },
    "kernelspec": {
      "name": "python3",
      "display_name": "Python 3"
    },
    "accelerator": "GPU"
  },
  "cells": [
    {
      "cell_type": "code",
      "metadata": {
        "id": "tl9KfcjsB09Q",
        "colab": {
          "base_uri": "https://localhost:8080/"
        },
        "outputId": "10cb4a26-de57-43a5-c1a5-fc714d529ae3"
      },
      "source": [
        "import tensorflow as tf\n",
        "from tensorflow.keras.layers import Activation\n",
        "from keras.utils import np_utils\n",
        "from tensorflow.python.ops.numpy_ops import np_config\n",
        "np_config.enable_numpy_behavior()\n",
        "from tensorflow.python.ops.numpy_ops.np_math_ops import log\n",
        "import matplotlib.pyplot as plt\n",
        "from functools import wraps\n",
        "from time import time\n",
        "\n",
        "print(tf.__version__)\n",
        "\n",
        "plt.rcParams['figure.dpi'] = 100\n",
        "plt.rcParams['savefig.dpi'] = 100"
      ],
      "execution_count": null,
      "outputs": [
        {
          "output_type": "stream",
          "name": "stdout",
          "text": [
            "2.8.0\n"
          ]
        }
      ]
    },
    {
      "cell_type": "code",
      "metadata": {
        "id": "f1I7TLooA7uG"
      },
      "source": [
        "def get_data():\n",
        "  \"\"\"\n",
        "  Code copied from the link given in assignment description\n",
        "\n",
        "  Returns\n",
        "  -------\n",
        "  tr_x : 60000,784 numpy array\n",
        "  tr_y : 60000,10 numpy array\n",
        "  te_x : 10000,784 numpy array\n",
        "  te_y : 10000,10 numpy array\n",
        "  \n",
        "  \"\"\"\n",
        "\n",
        "  # load the training and test data    \n",
        "  fashion_mnist = tf.keras.datasets.fashion_mnist\n",
        "  (tr_x, tr_y), (te_x, te_y) = fashion_mnist.load_data()\n",
        "  \n",
        "  # reshape the feature data\n",
        "  tr_x = tr_x.reshape(tr_x.shape[0], 784)\n",
        "  te_x = te_x.reshape(te_x.shape[0], 784)\n",
        "\n",
        "  # noramlise feature data\n",
        "  tr_x = tr_x / 255.0\n",
        "  te_x = te_x / 255.0\n",
        "\n",
        "  print( \"Shape of training features \", tr_x.shape)\n",
        "  print( \"Shape of test features \", te_x.shape)\n",
        "\n",
        "  # one hot encode the training labels and get the transpose\n",
        "  tr_y = np_utils.to_categorical(tr_y,10)\n",
        "  # tr_y = tr_y.T\n",
        "  print (\"Shape of training labels \", tr_y.shape)\n",
        "\n",
        "  # one hot encode the test labels and get the transpose\n",
        "  te_y = np_utils.to_categorical(te_y,10)\n",
        "  # te_y = te_y.T\n",
        "  print (\"Shape of testing labels \", te_y.shape)\n",
        "\n",
        "  return tr_x, tr_y, te_x, te_y"
      ],
      "execution_count": null,
      "outputs": []
    },
    {
      "cell_type": "markdown",
      "source": [
        "The figure below is from the lecture notes, it is an example if one instance X with n features mutiplied with n weights, all these products are added and passed through an activation layer (layed 1 - ReLu and layer 2 SoftMax to generate output y_predicted)\n",
        "\n",
        "![Screenshot 2022-03-27 210335.jpg](data:image/jpeg;base64,/9j/4AAQSkZJRgABAQEAYABgAAD/2wBDAAMCAgMCAgMDAwMEAwMEBQgFBQQEBQoHBwYIDAoMDAsKCwsNDhIQDQ4RDgsLEBYQERMUFRUVDA8XGBYUGBIUFRT/2wBDAQMEBAUEBQkFBQkUDQsNFBQUFBQUFBQUFBQUFBQUFBQUFBQUFBQUFBQUFBQUFBQUFBQUFBQUFBQUFBQUFBQUFBT/wAARCAEWATMDASIAAhEBAxEB/8QAHwAAAQUBAQEBAQEAAAAAAAAAAAECAwQFBgcICQoL/8QAtRAAAgEDAwIEAwUFBAQAAAF9AQIDAAQRBRIhMUEGE1FhByJxFDKBkaEII0KxwRVS0fAkM2JyggkKFhcYGRolJicoKSo0NTY3ODk6Q0RFRkdISUpTVFVWV1hZWmNkZWZnaGlqc3R1dnd4eXqDhIWGh4iJipKTlJWWl5iZmqKjpKWmp6ipqrKztLW2t7i5usLDxMXGx8jJytLT1NXW19jZ2uHi4+Tl5ufo6erx8vP09fb3+Pn6/8QAHwEAAwEBAQEBAQEBAQAAAAAAAAECAwQFBgcICQoL/8QAtREAAgECBAQDBAcFBAQAAQJ3AAECAxEEBSExBhJBUQdhcRMiMoEIFEKRobHBCSMzUvAVYnLRChYkNOEl8RcYGRomJygpKjU2Nzg5OkNERUZHSElKU1RVVldYWVpjZGVmZ2hpanN0dXZ3eHl6goOEhYaHiImKkpOUlZaXmJmaoqOkpaanqKmqsrO0tba3uLm6wsPExcbHyMnK0tPU1dbX2Nna4uPk5ebn6Onq8vP09fb3+Pn6/9oADAMBAAIRAxEAPwD9U6KKKACiiigAooooAKKKKACiiigAooooAKKKKACiiigAooooAKKKKACiiigAooooAKKKKACiiigAooooAKKKKACiiigAooooAKKKKACiiigAooooAKKKKACivCv2qriz8G/BHxrqEkjT67rgTSNLnkGXt7q6KWtsIT1TY7q+Vx8wZuprqfD3wZ8M+G/inZ+KbfU9Tk8Q2/h5dHFnNfs0DwCUO1y8X8UzuAGlYknAojZu39bX/wAvvuD0V/63S/z+49MorgfC3ijW7z4teL/DepXFpcWOm6Vpl7bG2tjCQ08l6r7su2eLePuB14rvqSdwCiiimAUUUUAFFFFABRRRQAUUUUAFFFFABRRRQAUUUUAFFFFABRRRQAUUUUAFFFFABRRRQAUUUUAFFFFABRRRQAUUUUAFFFFAHnOofs/+CtVtby1u9L8+3uNXbX9jvnytRMqy/akbqJA6jaSTtGVACkiu40/SIdPmnn3PcXc+PNuZtvmOBwq8AAKMnAAAySepJN6igDzHwzY67B8cfF2tXPhu/tdH1LSdKsre+kntSpkgkvWkyqzFwAJ4/wCHnJ9K6vRfHVhrHiPVNAeG607WLBixtb6Ex/aIc4WeBuVljORkqSVJCuFbiujrl/Hfw903x7b6c1089nqelXIvdM1K0kMc9ncBSu9SOGUqxVkbKupIYEUkrKwdbnUUV574F+IGoDWv+EN8aLa2fjKGFZo7izikjsdXixzPal84YENvg3M8XBJZGR29CpgFFfNepeMH8P8AxU+Ner20Qtk8F+FldpHUJJqN3cLJch2OBvWNIYYozzjMiiu28A/DUeH4PhlZT6xdajrvhbw7Lay3stw8ouGljgRnmXd8+94y4JOfkOD1px1jd6f0/wDL8Ql7rstf6X+f4Hr1FcF8KfEXiDWrnxpYeI7uwv7zRdb/ALPjuNOs3tInjNlazj920spB3TsOXPQV3tSndJrqHkFFFFMAooooAKKKKACiiigAooooAKKKKACiiigAooooAKKKKACiiigAooooAKKKKACiiigAooooAKKKKACiiigAooooAx/FHhHS/GWnx2eq27TRxSrcQSxSNFNbyrkLLFIhDRuMnDKQcEjoTXJeG/GGpeD7zTPC/jq4jk1G4YW+m69FGwt9UI3bVk+ULDclVyY87XzmMn5kT0Ws7X/D9h4o0mbTdTtxc2cpUsm5kZWVgyOrKQyOrKrKykFSoIIIBoAS+8N6Rqmo21/eaVZXd/bArBdT26PLED1CsRlfwo0jw9pvhuwaz0XTrLSLcksIbO2WKPdjGSqYB6D8q8+0vxNqXwn1m18PeLrz7b4auisOj+KbhmMnnNIVWzvTjaJCGQRzkgSnKsFcKZfU6PIDz74b+A/E/g/xB4qv9a8RaTrNvrt9/aJgsNGlsnhlFvbwAb2upQy7LfONoOW64GD6DRRRskuweYUUUUAFFFFABRRRQAUUUUAFFFFABRRRQAUUUUAFFFFABRRRQAUUUUAFFFFABRRRQAUUUUAFFFFABRRRQAUV5r8UPjMvwv8ADNx4ou9Ha88N2d5FZXU0VyBdF3uFtwYYduJAJGAO50OAcA8Z2PD/AI61O+8TeINL1nwxdaFZ6Xbw3K6zLMr2VwrhiyK5CnfGFG/AKjcPmNC1u+w2mjsqK5rw18RtA8W6pdabp13N/aFtGs72t5ZzWkrRMSFlRZkUyRkggSJlcjGa6WgQUUUUAVNW0qz13S7vTtQto7yxu4mgnt5VykiMMMpHoQa8+t9cv/hLqFvpniC6m1DwdKrLZ+ILjzJZrJzINlveP82V2vhLhiPubZDvId/TKiurWG+tZra5hjuLeZGjlhlUMjqRgqwPBBBwQaAJaK8eT7T+zpBJvaS++FUfmzPPJJNcXmgbmBC4O4yWYy/Od0AwMNEMxeu29xFdQRzwyLLDIodJEIKspGQQR1BFAElFFFABRRRQAUUUUAFFFFABRRRQAUUUUAFFFFABRRRQAUUUUAFFFFABRRRQAUUUUAFFFFABRRRQAUlLRQB8wfG6HxX8aNI+G9vJ4P1jRtI0zxnb6p4osGiMsqWdrLK0G3aMTh5EgkYQ79oPfqfafFPhaP4veDtZ0XUptS0jRtREawy2bPZ3yqrK5fLDcmWAG1lBwDkfNgdtWX4o0FfFXh3UdIkvb3To76FoHutOm8m4jVhglHwdrYz8w5HUYPNLWMHFLz+dkv0Q95qTdun4t/r+R4xr3g6b4kftJ/Dvxfp96bPQPA9tqVnNeSZRtWurmJEFvGSB5scao0jMMrvCgZKvt97rxv4e/svaF8O/FGm65D4u8eeIJdOVxaWfiPxTd6haQlo2j3LDIxUMEZlBxwGNdJ4o8eeJPAc0l1qfhO417QPtDD7d4aY3Fzaw9RJNaNtdgBwfIMrk4IjAJxo37qXb/Nsnq2egVl+IvEum+E9Ll1HVLj7PaxgklY2kc4BY7UQFmIAJwAeAT0BpPDvirRvF1n9r0TVbPVbbgGSznWQKSM4bB4OD0PNcZ+0N4SuvGfwg8T6bp9pJdajcWMtsn2cD7QIZR5dwISekhhaQL6kgVGr2/EpWvrsdZpvjfQdYj0V7HVrW7TWrNr/TmhfcLq3UIxlTHVQJY+f9setTeFPFeleOPD9nrmh3i3+lXiloLhVZQ4DFTwwBGCCOR2rx/QftGk/Fix1O28O6pb+DdN8LJofh2NdNnVzMZkM6yRlN0C7YrVVaUKPkkPQAmj8UPhdBHoOovr5g8V3t5pK2Wh6BBp4MtrqzySSS3ltLktHukkiYyYXyhCGL8cKT6xWmvru7ffZfeEVpaT109NUr/df8GfQZAYEEZB6ivKNQ03UvgleHUtCtZdQ+Hm2a41XR4vOubvTWwGEtjEoZni+9utl6cGIZyjdv8PIdUt/Afh2LW9XtvEGsJp8C3mq2ahYbyYRgPKgHAVmyR9a6GrlHlk43vYiL5km1Yo6Hrmn+JtItNU0m9g1HTruMSwXVs4eORT3BFXq8z1bwrqfw31bVvE/hGOXUdOvGlvtX8LtKxE8u0Fp7LIIjmbaS0XEcrMWOxyzt2/hjxRpXjPRLbV9FvYtQ0+4GUmiPQ9CrA8qwPBVgCCCCARUlGrRRRQAUUUUAFFFFABRRRQAUUUUAFFFFABRRRQAUUUUAFFFFABRRRQAUUUUAFFFFABRRRQAUUUUAFFFFABRRRQByviL4YeG/E2sDWbnT/suvLB9mXWtOme0vhFyfL8+Iq5TJzsJK55xXO2bfET4fWNwL7yviXp8LqYZrVY7HVxDgAh4zi3uHByxYNACMgISBu9MooA5jwz8SPD/izUptMsr0w61BCtxPpF9C9texRtwHaGQK+3PG4DaT0NZXj74F+BvihqtvqXinQY9XvbeEwQyS3Ey+XGTkqArgDJ68c4Gegrb8WfD7w746awk1zSLe/udOkM1jeEFLmzkK7S8EykPExBI3IwOK5W80fx/4C02aTw7fxePLWJw8eka9ILe98vOWSO9UbXYLwgmjyxxvmGSwVh3Z6BpOl2mh6XZ6bp9ulpY2cKW9vbxjCxxooVVA9AABVuuN0P4saBq2rWWjXck3h/xHdozw6JrUf2a6k2jL+WCSs20dTEzgetdlVNtu7JSSVkFcF4q8H6ppevN4t8IfPqxB/tDRZrtobTV1Ee1dxwyxTrtTbKF5C7H+XaU72ikM5zwP490nx9ps1xpsjx3NpILfUNOuV8u60+42K5gnjPKOFdT6FWVlJVgT0dcN408B3k2qt4q8K3P9neLYYPKMckhWz1RFDFLe7UA/KC7bZFG+MsSMqWRrvw/+IVr43tJLeaEaR4msY4v7X8PzTK9zp0jgkK+37ynDbJB8rgZU0AdZRRRQAUUUUAFFFFABRRRQAUUUUAFFFFABRRRQAUUUUAFFFFABRRRQAUUUUAFFFFABRRRQAUUUUAFFFFABRRRQAUUUUAUNa0DTPEtg1jq+m2mq2TMHNtewLNGWByDtYEZBrgbf4c+I/h7BqL+BddN9aybpofDviq4muLaOTJPlwXWWlt42zjBWZUAGyMAYPptFAHnbfGjTvDt/pem+OLOXwTqOousFtNfSLJp9zOSFEUV2vyb2YgIkojkf+FDg49EqC9srfUrSa1u7eK6tZlKSQzIHR1PUMp4I9jXAf8KlufDeuS6p4I8QzeGoplbztAngF1o8jkf6xbfKPC/Gf3MiKSSWRic0AejVx3jz4ft4nnsNX0nUJNC8U6YS1nqMQysin71vcJ/y1gfjcmQQQGUqyhhi3nxeuPAenrc/EbRD4Zs1k2Ta7ZTfbNKiGcLJLLtV4FOQS0saovQueteiQX1vdWSXkE8dxaunmJNCwdHXGQQRwRj0oA47wH8TY/El1eaFrttD4e8a6XbRXOqaJ9qEyxxuCFnhkwvm27MrhZNqnKMGVWBUb+h+KrLWvCOn+I2P2DT7yzjvg12yr5UboHG85wMAjPNeJeLluvjd8LLXx6mvaX4H0W5sYtT0HWk097vUYbSeNXUyEyIo85HCPbhWHON5bBWDwn4e1j4gaD4cfxW//Em0yyghtdOjyiXxVAPtMybjjdgEJk4zj13epg8D9YTq1Hy01u+77JdX+W7IlK2i3O3l+OR8QNLF4L0K41/y22PfXDi1tVPszfMx9gO4qNdb+JGpYMt34f0Zc5C29tLcv9CWZR+QrchgjtYUihjWKJBhURQqqPQAU+vX5sPT0o0V6y95/O+n3RRnq92YC3nxFsFDQ6/o2qsP4L3TWhDfUxycflSr8WvEnhxWm8UeFlbT0GZL/RZ/OEY9TE2Gx754reoo56M9KtGL9Fyv5ctl96Ya9GdD4T8Y6P440lNR0a9jvLZuG28PG391lPKn2P1rarxHXvA01vqieIPCtwNG16H5nWMYgvQOfLmUcEH+9159hj0D4c/EKHx7plwXtm03V7GTyL/T5Gy0EnY57qccHvg+ledi8DGEPrGGd4dU94+vddmvmky4y1s9zrqKKK8U0CiiigAooooAKKKKACiiigAooooAKKKKACiiigAooooAKKKKACiiigAooooAy21yRfE0ekf2VfmJrRrr+1AifZAQ6r5Jbdu8w7twG3GAee1L4e1mTXtON1Jpl9pDCeaH7NqCIsv7uRk34VmG19u5TnJVlJAzitOigAooooAKKKKAGsqyKVZQysMFSMgivJPG3g2x8Oa7by+DNO1jTfE+oRTuY/DzxQWMijaGku45s2/3njG8IZjltmQHx67XMaX48tNR8ZeJPDUltNZ3+jR29zmbAW6t5UJWaLnlQ6SxnPIaM9iCQD5m+DvhTx7b6Lonwu+IC6FLp/hBAWi8PzSy2zQ4/wBDtmaREY+XGQu3HKoNxY819CKoVQAMAcACuE+Dl5JrXhu912cf6TrGo3F5J7ZbaF+gC4rvK+xxcfYSWFW1PT5/afzf4WXQ546+93CiiiuEsKKKKACuD8bSf8IDr1j48s43LW7Ja6pCnSa1Y4Jx/eUlcfhnpXeVV1bTYNZ0u7sLld1vcxNDIP8AZYEH+ddOGqqlUTmrxejXdPdf11Jkro9Bt7iO6t4p4mDxSKHRh0KkZBqSuE+B+tSa58MdFafBuLVGsZMesTGMH8VVT+Nd3XzmJovDV50X9ltfczaL5kmFFFFcwwoorF1PxXZaP4k0bRrtvIm1ZJzayyMFR5IthMIJ6uys7hRyVikP8JoA2qKKpa1qY0bSrm98iW6aFMrbwgF5W6Ki54ySQBnjmgC7RXmPgP432/jT4g/Ebwq+ltZv4JNol5qUc5ltZZJ4TM0asUX541C7hg43rz2q78BPi0nx1+E+heOodHuNCtdYEsttZ3Th5PJWV0jkJAH31UOB2DDk9arldr+n47feB6DRRRUgFFFFABRRRQAUUUUAcv8AErwTN8Q/B17oVv4i1jwpNcNGy6roNx5F3FtdWwr4OAwG0+xNL4y8Ey+Lrjw5LF4h1jQho+pR6g8elXPlLfqqOv2e44O+JiwJXuVFdPRQ9VZ/1cFo7o4/xx4H1rxZdW0ul/ELxJ4MjhQo8Gh2+mSJMSc7nN3ZzsCOnylR7VzX/Cm/F3/RdviB/wCAPh7/AOVVeq0UAeVf8Kb8Xf8ARdviB/4A+Hv/AJVUf8Kb8Xf9F2+IH/gD4e/+VVeq0UAeVf8ACm/F3/RdviB/4A+Hv/lVR/wpvxd/0Xb4gf8AgD4e/wDlVXqtFAHlX/Cm/F3/AEXb4gf+APh7/wCVVH/Cm/F3/RdviB/4A+Hv/lVXqtFAHlX/AApvxd/0Xb4gf+APh7/5VUf8Kb8Xf9F2+IH/AIA+Hv8A5VV6rRQB5V/wpvxd/wBF2+IH/gD4e/8AlVXluu/B/wAX+PfigdMsvjL4/Nt4TRH1HUpLXRoTcSToJBp8T29jE/3Vgll3bk2vCApYkx/U9cx4w+I+heAbrT18RXf9j2N83lR6pd4SzSYsqpDJKTiN3LAJuwGIIBzgFp2dwPK/gPIsnwt0hR1Rplb6+c5/kRXoFcP4MW18K+LvEnhKN18qOf8AtKwIPD28wBIX2RuPxruK+yzBqeJnVW03zL0lqvzOeO1gooorzywooooAKKK5n4keJ28I+D7+/hBa7KiG2Uckyudq4HfGc/hWtGlKtUjShu3YTdlc5T4Q/DPxH4i8L3Oq2HxV8X+F7G8v7iSDTdJtdHkto1D7SVNzYTSHLKxOXIyTgAcV2/8Awpvxd/0Xb4gf+APh7/5VV23gHw8vhPwXoukqmxrW1RJB/wBNCMufxYsfxrfrxswrRr4urVjs5O3pfQ0irRSPKv8AhTfi7/ou3xA/8AfD3/yqo/4U34u/6Lt8QP8AwB8Pf/KqvVaK4Cjyr/hTfi7/AKLt8QP/AAB8Pf8Ayqrzn4yfAnxp4stdI8K2nxa8X6vdahcC7F1q1joP2fTFt2R/tY8vSlczI7ReWEeNtzbg6hSa+m6KAMvwvosvhvw7p2lz6rfa7NaQrC+paoyNc3JAxvkKIilj32qB7VqUVm+JNBtfFXh/U9FvjMLLULaS0nNtM8Mux1KttkQhkbBOGUgjqKTvbQatfU+XfHeoX/wQ/Zv+IFlcaRdHxl4q1/U7JbmFFVZ7nUrySGznDkgOBFJbgKuXATBUbSR9O+EPC9j4J8KaP4e0yFbfTtKs4rK3iUYCxxoEUfkBXLeH/gj4b0PR/DWkzLcazpfhloX0W01MxyJYvEpSORcIpZ1U4DOWI6gg5NegVeyav2+5Ky/UmybTt3+9u7/QKKKKkYUUUUAFFFFABRRRQAUUUUAFFFFABRRRQAUVitoN23jFNa/ty+Fiti1odExF9lMhkDfaM7PM8wAFfvbcE8Z5p3hXQ7vw7pJs7zW77xBMbiab7ZqAjEoV5GdY/wB2irtQMEXjOFGSTR/X9fkJGxRRRQMKK4rXvi54f0rUNQ0iwkm8TeI7FQZtD0KP7VdRswBRZcHZBuyMNMyLjnOAazLPR/H3jqxtpfEWow+BbdpjJJpHh+QXN20YOESS9dQo3DlliiBBwFlIBLAHQeJ/iX4c8I6pbaVqGpK2t3UL3Fto9nG9zfTxqQGdLeMNIygkAtt2jIyRXEeNNJ8b/GTwnPpaRn4d6Fel0u5pZTNrMltgjbGsTiO2d+odnmwvDR5JC9/4V8A+H/Bcl7No+mRWt3fOJLy8YtLc3TAYDTTOS8hA4BZjiugoA+PPgb8L7bwZ+zp8M/HfhHS1klntpPEN3ptrGis8Gok3LRZRRuMCyrGuR92MccYr3rRNbsvEWlwahp86XFrMu5XQ5x6g+hHQjtXF/EHTNS8TeItU8O/DbWfEOjajCkjatq1rcmXTbBwgdbaNJWKi5fzEIWIBY1+aT+BJIfD/AIE1fwj4H8PeI/BRl1uK9021nv8ASLltpuXaFCblGJ+WQ8Fl6HJx0Ar6TB4iGJpRw1V2lH4W9mr35W+mr0e2tn0MZJxd0ekUVzGgfEXRNenWzF0LHVQdkmm3gMU6Sd02tjJHtmunrSpSqUZctSLT8wTT2CiisjxB4u0bwrGH1bUrey3AsqSP87AdSqjk/gKmEJ1JKMFd+QbbmszBQSTgDkk1xnh2GT4nfEjTtQtVWbwp4fZ3+1dY7q7K4AUHhtmc7scHODyKbp+n+Jfi1cPEkd14W8JY3fbGXF1foeNqqeY1Iyd3pj1Ir2HQdA07wxpcOm6VaR2NlCMJDEOBk5J9SSe55rWvWjl8JRveq1bTVRTVnf8AvW0S6ddRJc3oaFFFFfKG4UUUUAFFFFABRRRQAUUUUAFFFFABRRRQAUUUUAFFFFABRRRQAUUUUAFFFRXV1DY20txczR29vCpeSWVgqIoGSxJ4AA70AS0lebxfF2fxnZzv8O9DfxSiy+THrF1N9j0liMgsk5VnnQY+9DHIpPG4ckO/4VFN4m1pNU8c69P4nSNAIdBiiFro8L5yZDbgs0zHj/XySKMZVUJNAEusfGKznt7iPwXplz8QNVjuPshh0dlFpFICA/m3j4hTy+rKGaQdAjHiq1x8OPEXjqTTZ/GniN7eyh/eT+GvDha3s53yGCXE7fvp1XGMKYUcE742B2j0SzsrfTrWK2tIIrW2iXbHDCgREHoAOAKnoAo6PoeneHbFLHSrC102zjztt7SFYo1z1wqgCr1FFABXmXiTWNU+J2oaj4U8NXN1pGjxxyW+reJ44WBV9+x7WyclQZseZumG5YioGC5Oyo2qXfx6intNLabTvh0x8q41Xa8VxrO2XDx2p3KUtmCFTPg+arnysKRKfTtL0uz0TTraw060gsLG2jEUFtbRiOOJAMBVUDAAHYUAQaB4e0zwrpNvpejafb6Zp1uCIrW1iEca5OSQB3JJJPUkkmrtvbxWdvHBBEkEMahUjjUKqgdAAOgqSigDF8SeC9C8XW7Q6zpNrqCldoeWMeYo/wBlx8y/UEV5/cfs56THKzaX4j8R6PGekFtfkxr7DIz+ZNetUV6GHzDF4WPLSqNLtuvuehDjGW6PIV/Z1gmwL3xr4qu07p9uAB/NTXYeF/hP4V8IN5lhpELXeQxvLrM85PrvfJH0GBXXUVpWzTGV48k6rt2Wi/CwKEVqkFFFFeWWFFFFABRRRQAUUUUAFFFFABRRRQAUUUUAFFFFABRRRQAUUUUAFFFFABWV4i8VaN4Rs1u9b1Wz0q3Y7UkvJljDtgnauT8zYB4GSazfF1j4s1S4trTQdS0/Q7FiDd6hLCbm7C5OUhjOI1bGMSPvAJ5jOOanhj4T6F4Z8SXniRhdax4nu12S6zq05nuFTj93EOEgjO1cxwqikjJBPNAGJfeOPF3jrSo/+EA0U6Qtw5Ua94wsZYIYkGQXSxLR3ErZAAV/JUg7g5AAbTg+EOl3upR6n4mvLzxjqEYURf2wytawEd47VFWFWySd5QydBvIAruqKAGoixqFVQqqMBVGAKdRRQAUUVn+IPEGneFdFvNW1e8i0/TbSMyz3MzYVF/qScAAckkAcmgCxf39tpdjcXl5cR2lpbxtLNPM4RI0UZLMTwAAM5NeV/Yb7493Hm6hFNY/C14o3h0+aKe0vtZlD7t06na0drhVHksAZsnePL+V3aRoeofG6XT9f8U2cmneDFMN9pHhe6hkhuZZVYslzqCtjkfIyWxGEI3SbnCrF61QBHb28VnbxQQRJDBEoSOONQqooGAAB0AHapKKKACiiigAooooAKKKKACiiigAooooAKKKKACiiigAooooAKKKKACiiigAooooAKKKKACiiigDj/HPw+uPGmueE9Qh8U674fj0LUPt0tnpF15MOprtI8i5GDvjzg7an17wRNrfjjwz4iTxHrOnQ6KLgSaPZ3Oyy1DzY9gNxHj5yh+ZeeDXU0Uf8MHkFFFFAFDWdQm020EsFsLlywB3yeXGi8lndsHaoAPY9h3rzOx/aBgvrn4T2Q0K4XUvH6TXMNr5wJsrWK3Mz3DnHzLzCoGAczLnHIr0Txd4dj8X+FdZ0Ka5ns4tTs5rN7i1bbLEsiFCyHswzke9cLYfBm50/xp4U8SprNm114e0KbQbaA6a3leVI0BZ1HnZVv9HQdcY4x3pws5NS2/4D0++33sJaK63/AOG1/P7vM7Twnr974gg1N73S/wCy2tdRuLOIeeJRPHG5VZgcDG4fw/wnIycZrdrxb4peD/FGoeKfhfpWhavrdnp/9sy3evXmnSvBG1skUsrrIU4HnTNEgBPCltuCMg8G/Eu58H+GdVHiKy1xtTuNTvjpGm3iu91fE3FwYbS3D/O5WGKNy5+RRLncFVtr6JvT/gW1+Yuumv8Awb6fLT7/AFPUfFPizTPBulHUNUmeKEusUccMLzTTSN92OONAXkc84VQTwfSuU8P+FNU8X65b+KPGEH2YQrFLpPh0TM8enMASZZ8EJLcksBnBWLZhCSWdl8GeBNTvdUtPF3jiSK58VLF/o+nWc8j6fo+5NrpbhseZIQzq1wyh2DEAIh2V6FUjCiiigAooooAKKKKACiiigAooooAKKKKACiiigAooooAKKKKACiiigAooooAKKKKACiiigAooooAKKKKACiiigAooooAKKK4f4ifEZ/DNza+HtCto9X8c6tbzyaTpkpdYP3YGZrmVVbyYFZkDPgk5CoGYgUAWvH3xCt/A62FpHbXGr+IdYeSDSdHt1Ja5lRC53OFIhiUAF5X+VdwHLMqtB4F+Hr6BqepeIdavG1fxVqpU3NyWYwWsYAC21qjE+XCMZOOXbLNyQAfD34df8IqZtY1m7Gu+NNRjT+09ZZWVWIVR5VvGzN5FuCPliU/7TF3ZnbtaACiiigAooooAKKKKACiiigAooooAKKKKACiiigAooooAKKKKACiiigAooooAKKKKACiiigAooooAKKKKACiiqOqrfSRwxWLLE0kqiWdiMxR8klQQQWOAozwN2ecYIBeor518JeN/iL8RviZ8dPC2ja9b6fp3hZ7TT9C1a7sI5iL6WzSWUShQqyRxsyHaAGy5BOAK+hLNJo7SBLiVZ7hUUSSqmwO2OSFycAntmnZq1/J/fqK+tl/X9foTUUVwPiXxtqGsa/J4T8HNby6skbNqOrS5e30hcqACApElw24ssJK8KWcgbQ6GJ46+Il3b6r/wiXhCGDVPG9xAZlW5VzZabFkDz7t0+6Pm+SIEPKRhcKHkTY8DeA7TwTa3Li5udU1e+fztQ1a+lMk9zJz3JwkYJO2JMIgOFA5y/wABeAtM+HWhtpmmNdXBmuJLy6vb+dp7m7uJG3STSyHlmJwMDCqoVVCqqqOkoAKKKKACiiigAooooAKKKKACiiigAooooAKKKKACiiigAooooAKKKKACiiigAooooAKKKKACiiigAooooAKKKKACuJ8eeFfFOu+JPCOo6B4pfRNO0m6ln1PShCpTVUaMrHG8hBKKrHdhR83TI4NdtRSGeWfDv4S6v4D0/wAQ2H9sW90Nd1ufWr3Uo4TFcO0+0yxBASFwVKq+4lU2jBI3VhfEG1tNa/aM8AaDDDdPdm3vtc1G8iZk8uzig+zR2xkXBEck1wJNmcMYiTnHHuFFN+81fp+isvu0/piVo3t1v+Lu/wBf6R8+/sy6rJeeMPii0WlyaRpU/iK4gsNKhRY4rCG0SK23vGCPKe4kSWVQF+ZFDHqCferLT7XTYXitLaK1iaWSZkhQIDI7l3cgfxMzMxPUkknrViinpZJdEkDbbbCiiikAUUUUAFFFFABRRRQAUUUUAFFFFABRRRQAUUUUAFFFFABRRRQAUUUUAFFFFABRRRQAUUUUAFFFFABRRRQAUUUUAFFFFABRRRQAUUUUAFFFFABRRRQAUUUUAFFFFABRRRQAUUUUAFFFFABRRRQAUUUUAFFFFABRRRQAUUUUAFFFFABRRRQAUUUUAFFFFAH/2Q==)"
      ],
      "metadata": {
        "id": "vT_xEoWY-HAD"
      }
    },
    {
      "cell_type": "code",
      "source": [
        "def forward_pass(X, W1, B1, W2, B2):\n",
        "  \"\"\" \n",
        "  Performs forward pass for the neural network\n",
        "  \n",
        "  Parameters\n",
        "  ----------\n",
        "  X : 60000,784 TensorFlow Variables of training data\n",
        "  W1 : 200,784 TensorFlow Variables of layer 1 weights \n",
        "  B1 : 200,1 TensorFlow Variables of layer 1 bias\n",
        "  W2 : 10,200 TensorFlow Variables of layer 2 weights \n",
        "  B2 : 10,1 TensorFlow Variables of layer 2 bias\n",
        "\n",
        "  Returns\n",
        "  -------\n",
        "  A2 : 60000,10 tensorflow variables of softmax layer output, probabilities of 10 classes of 60000 images\n",
        "  \"\"\"\n",
        "\n",
        "  Z1 = tf.matmul(X,tf.transpose(W1)) + B1\n",
        "  A1 = Activation('relu')(Z1) #shape 60,000 X 200\n",
        "\n",
        "  Z2 = tf.matmul(A1, tf.transpose(W2)) + B2 \n",
        "  A2 = tf.exp(Z2)/tf.reduce_sum(tf.exp(Z2), axis=-1).reshape(Z2.shape[0],1)\n",
        "  # print(tf.reduce_sum(A2, axis=-1)) # checking if the probabilities add to 1 on all rows\n",
        "  return A2\n"
      ],
      "metadata": {
        "id": "WNCdsFlTsau3"
      },
      "execution_count": null,
      "outputs": []
    },
    {
      "cell_type": "markdown",
      "source": [
        "Muticlass Cross Entropy loss L is given by\n",
        "\n",
        "![image.png](data:image/png;base64,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)\n",
        "\n",
        "\n",
        "Where, \n",
        "yi is the ith instance true class lables,\n",
        "\n",
        "y_cap_i is the ith predicted class probabilities,\n",
        "\n",
        "m is the number of images in the dataset\n"
      ],
      "metadata": {
        "id": "1kjBYLHmBTwU"
      }
    },
    {
      "cell_type": "code",
      "source": [
        "def cross_entropy(pred_y, true_y):\n",
        "  \"\"\"\n",
        "  Performs Categorical Cross Entropy Loss calculation\n",
        "\n",
        "  Parameters\n",
        "  ----------\n",
        "  pred_y : 60000,10 tensorflow variables from softmax layer - forward_pass()\n",
        "  true_y : 60000,10 tensorflow variables of input image categorical lables \n",
        "\n",
        "  Returns\n",
        "  -------\n",
        "  loss : float32 value of Categorical Cross Entropy loss calculated as shown in the figure above\n",
        "  \"\"\"\n",
        "  # cce = tf.keras.losses.CategoricalCrossentropy()\n",
        "  # print(\"This is the loss from built in function\", cce(true_y, pred_y).numpy())\n",
        "  loss  = -tf.reduce_mean(tf.reduce_sum(true_y * (tf.math.log(pred_y)), axis=-1))\n",
        "  return loss\n"
      ],
      "metadata": {
        "id": "QzqjKzOtt-c_"
      },
      "execution_count": null,
      "outputs": []
    },
    {
      "cell_type": "code",
      "source": [
        "def calculate_accuracy(pred_y, true_y):\n",
        "  \"\"\"\n",
        "  Calculate accuracy\n",
        "\n",
        "  Parameters\n",
        "  ----------\n",
        "  pred_y : 60000,10 tensorflow variables from softmax layer - forward_pass()\n",
        "  true_y : 60000,10 tensorflow variables of input image categorical lables \n",
        "\n",
        "  Returns\n",
        "  -------\n",
        "  acr : float32 value of Accuracy between predicted class and True class\n",
        "  \n",
        "    \"\"\"\n",
        "  pred_y = tf.round(pred_y)\n",
        "  pred_correct = tf.cast(tf.equal(pred_y, true_y), tf.float32)\n",
        "  acr = tf.reduce_mean(pred_correct)\n",
        "  return acr"
      ],
      "metadata": {
        "id": "JH3WqqEmDPPt"
      },
      "execution_count": null,
      "outputs": []
    },
    {
      "cell_type": "code",
      "source": [
        "#Copied from Quora answers - https://stackoverflow.com/questions/2245161/how-to-measure-execution-time-of-functions-automatically-in-python\n",
        "def timed(f):\n",
        "    wraps(f)\n",
        "    def wrapper(*args, **kwargs):\n",
        "        start_time = time()\n",
        "        res = f(*args, **kwargs)\n",
        "        elapsed = time() - start_time\n",
        "        print (\"Execution time for function {} is: {} seconds\".format(f.__name__, elapsed))\n",
        "        return res\n",
        "    return wrapper\n"
      ],
      "metadata": {
        "id": "LAaABPafR8xu"
      },
      "execution_count": null,
      "outputs": []
    },
    {
      "cell_type": "code",
      "source": [
        "@timed\n",
        "def main():\n",
        "  tf.random.set_seed(50)\n",
        "  num_Iters = 500\n",
        "  adam_optimizer = tf.keras.optimizers.Adam(learning_rate=0.001)\n",
        "  train_loss, train_acc, test_loss, test_acc, epoc = [], [], [], [], []\n",
        "  \n",
        "  #get processed data from get_data()\n",
        "  train_x, train_y, test_x, test_y = get_data()\n",
        "  \n",
        "  # Create tensorflow variables and change datatype to float64\n",
        "  dt = tf.float32\n",
        "  train_x = tf.cast(train_x, dt)\n",
        "  train_y = tf.cast(train_y, dt)\n",
        "  test_x = tf.cast(test_x, dt)\n",
        "  test_y = tf.cast(test_y, dt)\n",
        "\n",
        "  #when using RELU, multiply the weights with sqrt(2/n) to mitigate vanishing/exploding weights for large 'n' - Andrew Ng \n",
        "  W1 = tf.Variable(tf.random.normal([200,784]) * tf.sqrt(2/784))\n",
        "  W2 = tf.Variable(tf.random.normal([10,200]) * tf.sqrt(2/200))\n",
        "  B1 = tf.Variable(tf.zeros([1]))\n",
        "  B2 = tf.Variable(tf.zeros([1]))\n",
        "  \n",
        "  for i in range(num_Iters):\n",
        "    epoc.append(i)\n",
        "    with tf.GradientTape() as tape:\n",
        "      predicted_y = forward_pass(train_x, W1, B1, W2, B2)\n",
        "      crossEntLoss = cross_entropy(predicted_y, train_y) # check this out \n",
        "      train_loss.append(crossEntLoss)\n",
        "    gradients = tape.gradient(crossEntLoss,[W1, W2, B1, B2])\n",
        "    accuracy = calculate_accuracy(predicted_y, train_y)\n",
        "    train_acc.append(accuracy)\n",
        "    print(\"Iteration: {}, Loss: {}, Accuracy: {}\".format(i, crossEntLoss, accuracy))\n",
        "\n",
        "    adam_optimizer.apply_gradients(zip(gradients,[W1, W2, B1, B2]))\n",
        "\n",
        "    #test data - validate\n",
        "    pred_y = forward_pass(test_x, W1, B1, W2, B2)\n",
        "    loss = cross_entropy(pred_y, test_y)\n",
        "    test_loss.append(loss)\n",
        "    accuracy = calculate_accuracy(pred_y, test_y)\n",
        "    test_acc.append(accuracy)\n",
        "\n",
        "# plotting four curves - https://stackoverflow.com/questions/67248885/plot-four-curve-with-one-x-axis-and-2-different-y-axis-on-the-same-plot-in-pytho\n",
        "  fig = plt.figure(figsize=(7,5))\n",
        "  fig.suptitle(\"Question 1_1_1\")\n",
        "  ax1 = fig.add_subplot()\n",
        "  ax2 = ax1.twinx()\n",
        "  ax1.plot(epoc,train_acc, label = 'Train Accuracy')\n",
        "  ax1.plot(epoc,test_acc, label = 'Test Accuracy')\n",
        "  ax2.plot(epoc,train_loss, color='green', label = 'Train Loss')\n",
        "  ax2.plot(epoc,test_loss, color='red', label = 'Test Loss')\n",
        "  ax1.set_ylabel(\"Train / Test Accuracy\")\n",
        "  ax2.set_ylabel(\"Train / Test Loss\")\n",
        "  ax1.set_xlabel(\"Epoch #\")\n",
        "  ax1.legend(loc ='center', bbox_to_anchor=(0.5, 0.63))\n",
        "  ax2.legend(loc= 'center', bbox_to_anchor=(0.5, 0.5))\n",
        "  plt.show()\n",
        "\n",
        "if __name__ == \"__main__\":\n",
        "    main()"
      ],
      "metadata": {
        "id": "wxqccrJW3KGf",
        "outputId": "297f2b75-e835-4abf-be60-26b4b027a1b4",
        "colab": {
          "base_uri": "https://localhost:8080/",
          "height": 1000
        }
      },
      "execution_count": null,
      "outputs": [
        {
          "output_type": "stream",
          "name": "stdout",
          "text": [
            "Downloading data from https://storage.googleapis.com/tensorflow/tf-keras-datasets/train-labels-idx1-ubyte.gz\n",
            "32768/29515 [=================================] - 0s 0us/step\n",
            "40960/29515 [=========================================] - 0s 0us/step\n",
            "Downloading data from https://storage.googleapis.com/tensorflow/tf-keras-datasets/train-images-idx3-ubyte.gz\n",
            "26427392/26421880 [==============================] - 1s 0us/step\n",
            "26435584/26421880 [==============================] - 1s 0us/step\n",
            "Downloading data from https://storage.googleapis.com/tensorflow/tf-keras-datasets/t10k-labels-idx1-ubyte.gz\n",
            "16384/5148 [===============================================================================================] - 0s 0us/step\n",
            "Downloading data from https://storage.googleapis.com/tensorflow/tf-keras-datasets/t10k-images-idx3-ubyte.gz\n",
            "4423680/4422102 [==============================] - 0s 0us/step\n",
            "4431872/4422102 [==============================] - 0s 0us/step\n",
            "Shape of training features  (60000, 784)\n",
            "Shape of test features  (10000, 784)\n",
            "Shape of training labels  (60000, 10)\n",
            "Shape of testing labels  (10000, 10)\n",
            "Iteration: 0, Loss: 2.471320867538452, Accuracy: 0.8999750018119812\n",
            "Iteration: 1, Loss: 2.056964874267578, Accuracy: 0.9000066518783569\n",
            "Iteration: 2, Loss: 1.799872636795044, Accuracy: 0.9001349806785583\n",
            "Iteration: 3, Loss: 1.6302844285964966, Accuracy: 0.905144989490509\n",
            "Iteration: 4, Loss: 1.4751839637756348, Accuracy: 0.9122849702835083\n",
            "Iteration: 5, Loss: 1.3345261812210083, Accuracy: 0.9164450168609619\n",
            "Iteration: 6, Loss: 1.218429446220398, Accuracy: 0.9207966923713684\n",
            "Iteration: 7, Loss: 1.1222894191741943, Accuracy: 0.927216649055481\n",
            "Iteration: 8, Loss: 1.0426650047302246, Accuracy: 0.9325266480445862\n",
            "Iteration: 9, Loss: 0.9783334732055664, Accuracy: 0.9359583258628845\n",
            "Iteration: 10, Loss: 0.927925705909729, Accuracy: 0.9385550022125244\n",
            "Iteration: 11, Loss: 0.8873498439788818, Accuracy: 0.94097501039505\n",
            "Iteration: 12, Loss: 0.852294921875, Accuracy: 0.9430716633796692\n",
            "Iteration: 13, Loss: 0.8207582831382751, Accuracy: 0.9447816610336304\n",
            "Iteration: 14, Loss: 0.7928729057312012, Accuracy: 0.9460949897766113\n",
            "Iteration: 15, Loss: 0.7696859240531921, Accuracy: 0.9470216631889343\n",
            "Iteration: 16, Loss: 0.7500752210617065, Accuracy: 0.947950005531311\n",
            "Iteration: 17, Loss: 0.7322832942008972, Accuracy: 0.9491350054740906\n",
            "Iteration: 18, Loss: 0.7152104377746582, Accuracy: 0.9504833221435547\n",
            "Iteration: 19, Loss: 0.6991933584213257, Accuracy: 0.9520566463470459\n",
            "Iteration: 20, Loss: 0.6848568916320801, Accuracy: 0.9534966945648193\n",
            "Iteration: 21, Loss: 0.6721411943435669, Accuracy: 0.9544950127601624\n",
            "Iteration: 22, Loss: 0.6602771878242493, Accuracy: 0.9553350210189819\n",
            "Iteration: 23, Loss: 0.6489913463592529, Accuracy: 0.9559299945831299\n",
            "Iteration: 24, Loss: 0.6383323073387146, Accuracy: 0.9564933180809021\n",
            "Iteration: 25, Loss: 0.6283408999443054, Accuracy: 0.9571266770362854\n",
            "Iteration: 26, Loss: 0.618903636932373, Accuracy: 0.9578683376312256\n",
            "Iteration: 27, Loss: 0.61012864112854, Accuracy: 0.9585949778556824\n",
            "Iteration: 28, Loss: 0.6020066142082214, Accuracy: 0.9593483209609985\n",
            "Iteration: 29, Loss: 0.5943713784217834, Accuracy: 0.9599949717521667\n",
            "Iteration: 30, Loss: 0.5869577527046204, Accuracy: 0.96062833070755\n",
            "Iteration: 31, Loss: 0.5798901319503784, Accuracy: 0.9612150192260742\n",
            "Iteration: 32, Loss: 0.5734744668006897, Accuracy: 0.9615633487701416\n",
            "Iteration: 33, Loss: 0.567660391330719, Accuracy: 0.961888313293457\n",
            "Iteration: 34, Loss: 0.5620297789573669, Accuracy: 0.9622666835784912\n",
            "Iteration: 35, Loss: 0.5564926862716675, Accuracy: 0.9626700282096863\n",
            "Iteration: 36, Loss: 0.5512734651565552, Accuracy: 0.9631333351135254\n",
            "Iteration: 37, Loss: 0.5465129017829895, Accuracy: 0.9634199738502502\n",
            "Iteration: 38, Loss: 0.5419970750808716, Accuracy: 0.9637483358383179\n",
            "Iteration: 39, Loss: 0.5375365614891052, Accuracy: 0.9640049934387207\n",
            "Iteration: 40, Loss: 0.5331834554672241, Accuracy: 0.9643433094024658\n",
            "Iteration: 41, Loss: 0.5290958285331726, Accuracy: 0.9645783305168152\n",
            "Iteration: 42, Loss: 0.5253040790557861, Accuracy: 0.964816689491272\n",
            "Iteration: 43, Loss: 0.5216776132583618, Accuracy: 0.965149998664856\n",
            "Iteration: 44, Loss: 0.5180990695953369, Accuracy: 0.9653400182723999\n",
            "Iteration: 45, Loss: 0.5146175026893616, Accuracy: 0.9655616879463196\n",
            "Iteration: 46, Loss: 0.5113400816917419, Accuracy: 0.9657366871833801\n",
            "Iteration: 47, Loss: 0.5082341432571411, Accuracy: 0.965951681137085\n",
            "Iteration: 48, Loss: 0.5052025318145752, Accuracy: 0.9661683440208435\n",
            "Iteration: 49, Loss: 0.5022184252738953, Accuracy: 0.9663533568382263\n",
            "Iteration: 50, Loss: 0.49935194849967957, Accuracy: 0.9665799736976624\n",
            "Iteration: 51, Loss: 0.4966256618499756, Accuracy: 0.966741681098938\n",
            "Iteration: 52, Loss: 0.4939766824245453, Accuracy: 0.9669049978256226\n",
            "Iteration: 53, Loss: 0.49135586619377136, Accuracy: 0.9670716524124146\n",
            "Iteration: 54, Loss: 0.48878613114356995, Accuracy: 0.9672666788101196\n",
            "Iteration: 55, Loss: 0.4863130450248718, Accuracy: 0.9674450159072876\n",
            "Iteration: 56, Loss: 0.4839167296886444, Accuracy: 0.967585027217865\n",
            "Iteration: 57, Loss: 0.48154953122138977, Accuracy: 0.9677550196647644\n",
            "Iteration: 58, Loss: 0.47921425104141235, Accuracy: 0.9679283499717712\n",
            "Iteration: 59, Loss: 0.4769427180290222, Accuracy: 0.968084990978241\n",
            "Iteration: 60, Loss: 0.4747505784034729, Accuracy: 0.9682400226593018\n",
            "Iteration: 61, Loss: 0.4726134240627289, Accuracy: 0.968375027179718\n",
            "Iteration: 62, Loss: 0.4705345034599304, Accuracy: 0.9685050249099731\n",
            "Iteration: 63, Loss: 0.4685080349445343, Accuracy: 0.9686216711997986\n",
            "Iteration: 64, Loss: 0.4665273427963257, Accuracy: 0.9687449932098389\n",
            "Iteration: 65, Loss: 0.4645835757255554, Accuracy: 0.9688699841499329\n",
            "Iteration: 66, Loss: 0.46267107129096985, Accuracy: 0.9689833521842957\n",
            "Iteration: 67, Loss: 0.4607899785041809, Accuracy: 0.9691050052642822\n",
            "Iteration: 68, Loss: 0.4589512050151825, Accuracy: 0.9692783355712891\n",
            "Iteration: 69, Loss: 0.4571532607078552, Accuracy: 0.9693966507911682\n",
            "Iteration: 70, Loss: 0.4553833305835724, Accuracy: 0.9695150256156921\n",
            "Iteration: 71, Loss: 0.4536409378051758, Accuracy: 0.9696333408355713\n",
            "Iteration: 72, Loss: 0.4519290328025818, Accuracy: 0.9697949886322021\n",
            "Iteration: 73, Loss: 0.4502447843551636, Accuracy: 0.9698866605758667\n",
            "Iteration: 74, Loss: 0.44858482480049133, Accuracy: 0.9700383543968201\n",
            "Iteration: 75, Loss: 0.44694918394088745, Accuracy: 0.9701200127601624\n",
            "Iteration: 76, Loss: 0.4453372061252594, Accuracy: 0.970229983329773\n",
            "Iteration: 77, Loss: 0.44374972581863403, Accuracy: 0.970341682434082\n",
            "Iteration: 78, Loss: 0.4421800673007965, Accuracy: 0.9704033136367798\n",
            "Iteration: 79, Loss: 0.44063085317611694, Accuracy: 0.9705150127410889\n",
            "Iteration: 80, Loss: 0.4391045868396759, Accuracy: 0.9705833196640015\n",
            "Iteration: 81, Loss: 0.4376004934310913, Accuracy: 0.9706833362579346\n",
            "Iteration: 82, Loss: 0.4361146092414856, Accuracy: 0.9707750082015991\n",
            "Iteration: 83, Loss: 0.4346470236778259, Accuracy: 0.9708766937255859\n",
            "Iteration: 84, Loss: 0.4331904947757721, Accuracy: 0.9709716439247131\n",
            "Iteration: 85, Loss: 0.43174493312835693, Accuracy: 0.9710816740989685\n",
            "Iteration: 86, Loss: 0.4303108751773834, Accuracy: 0.9711383581161499\n",
            "Iteration: 87, Loss: 0.42890188097953796, Accuracy: 0.9712533354759216\n",
            "Iteration: 88, Loss: 0.42751145362854004, Accuracy: 0.971351683139801\n",
            "Iteration: 89, Loss: 0.42613890767097473, Accuracy: 0.9714333415031433\n",
            "Iteration: 90, Loss: 0.4247843623161316, Accuracy: 0.9715266823768616\n",
            "Iteration: 91, Loss: 0.4234499931335449, Accuracy: 0.9716083407402039\n",
            "Iteration: 92, Loss: 0.42216771841049194, Accuracy: 0.9716416597366333\n",
            "Iteration: 93, Loss: 0.4210314154624939, Accuracy: 0.9717400074005127\n",
            "Iteration: 94, Loss: 0.42033037543296814, Accuracy: 0.9718266725540161\n",
            "Iteration: 95, Loss: 0.4200004041194916, Accuracy: 0.971726655960083\n",
            "Iteration: 96, Loss: 0.4196438193321228, Accuracy: 0.9718616604804993\n",
            "Iteration: 97, Loss: 0.4167177975177765, Accuracy: 0.9719899892807007\n",
            "Iteration: 98, Loss: 0.4147179126739502, Accuracy: 0.9721633195877075\n",
            "Iteration: 99, Loss: 0.4145970046520233, Accuracy: 0.9722066521644592\n"
          ]
        },
        {
          "output_type": "display_data",
          "data": {
            "text/plain": [
              "<Figure size 504x360 with 2 Axes>"
            ],
            "image/png": "[encoded data removed]"
          },
          "metadata": {
            "needs_background": "light"
          }
        },
        {
          "output_type": "stream",
          "name": "stdout",
          "text": [
            "Execution time for function main is: 14.87847375869751 seconds\n"
          ]
        }
      ]
    }
  ]
}